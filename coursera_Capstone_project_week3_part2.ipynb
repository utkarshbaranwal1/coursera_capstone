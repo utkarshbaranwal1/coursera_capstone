{
    "cells": [
        {
            "cell_type": "code",
            "execution_count": 1,
            "metadata": {},
            "outputs": [
                {
                    "data": {
                        "text/html": "<div>\n<style scoped>\n    .dataframe tbody tr th:only-of-type {\n        vertical-align: middle;\n    }\n\n    .dataframe tbody tr th {\n        vertical-align: top;\n    }\n\n    .dataframe thead th {\n        text-align: right;\n    }\n</style>\n<table border=\"1\" class=\"dataframe\">\n  <thead>\n    <tr style=\"text-align: right;\">\n      <th></th>\n      <th>Postcode</th>\n      <th>Borough</th>\n      <th>Neighbourhood</th>\n    </tr>\n  </thead>\n  <tbody>\n    <tr>\n      <th>7</th>\n      <td>M1B</td>\n      <td>Scarborough</td>\n      <td>Rouge,Malvern</td>\n    </tr>\n    <tr>\n      <th>20</th>\n      <td>M1C</td>\n      <td>Scarborough</td>\n      <td>Highland Creek,Rouge Hill,Port Union</td>\n    </tr>\n    <tr>\n      <th>32</th>\n      <td>M1E</td>\n      <td>Scarborough</td>\n      <td>Guildwood,Morningside,West Hill</td>\n    </tr>\n    <tr>\n      <th>38</th>\n      <td>M1G</td>\n      <td>Scarborough</td>\n      <td>Woburn</td>\n    </tr>\n    <tr>\n      <th>42</th>\n      <td>M1H</td>\n      <td>Scarborough</td>\n      <td>Cedarbrae</td>\n    </tr>\n  </tbody>\n</table>\n</div>",
                        "text/plain": "   Postcode      Borough                         Neighbourhood\n7       M1B  Scarborough                         Rouge,Malvern\n20      M1C  Scarborough  Highland Creek,Rouge Hill,Port Union\n32      M1E  Scarborough       Guildwood,Morningside,West Hill\n38      M1G  Scarborough                                Woburn\n42      M1H  Scarborough                             Cedarbrae"
                    },
                    "execution_count": 1,
                    "metadata": {},
                    "output_type": "execute_result"
                }
            ],
            "source": "# PART 1 WORK\n\n#import pandas library\nimport pandas as pd\n\n#reading data through read html method of pandas\ndo = pd.read_html('https://en.wikipedia.org/wiki/List_of_postal_codes_of_Canada:_M')\n\n#converting to a pandas dataframe\ndf = pd.DataFrame(do[0])\n\ndf1 = df[df.Borough!='Not assigned']\n#If a cell has a borough but a Not assigned neighborhood, then the neighborhood will be the same as the borough.\nl = list(df1['Neighbourhood'])\nn = list(df1['Borough'])\nfor i in range(len(l)):\n    if l[i]=='Not assigned':\n        l[i] = n[i]\n#replace old neighbourhood column with new one\ndf1 = df1.drop(columns = 'Neighbourhood', axis=1)\ndf1['Neighbourhood'] = l\n#a new dataframe keeping only postcode and borough, to be used for merging later\nd = df1.drop(columns = \"Neighbourhood\", axis=1)\n\n#merging rows with same postcode values\ndf2 = df1.groupby('Postcode')['Neighbourhood'].apply(','.join).reset_index()\n\n#final dataframe to be used on machine learning model\nresult = pd.merge(d, df2, on= 'Postcode')\nresult.drop_duplicates(keep='first', inplace=True)\nresult.sort_values(by='Postcode', inplace=True)\nresult.head()"
        },
        {
            "cell_type": "code",
            "execution_count": 5,
            "metadata": {},
            "outputs": [
                {
                    "data": {
                        "text/html": "<div>\n<style scoped>\n    .dataframe tbody tr th:only-of-type {\n        vertical-align: middle;\n    }\n\n    .dataframe tbody tr th {\n        vertical-align: top;\n    }\n\n    .dataframe thead th {\n        text-align: right;\n    }\n</style>\n<table border=\"1\" class=\"dataframe\">\n  <thead>\n    <tr style=\"text-align: right;\">\n      <th></th>\n      <th>Postal Code</th>\n      <th>Latitude</th>\n      <th>Longitude</th>\n      <th>Postcode</th>\n    </tr>\n  </thead>\n  <tbody>\n    <tr>\n      <th>0</th>\n      <td>M1B</td>\n      <td>43.806686</td>\n      <td>-79.194353</td>\n      <td>M1B</td>\n    </tr>\n    <tr>\n      <th>1</th>\n      <td>M1C</td>\n      <td>43.784535</td>\n      <td>-79.160497</td>\n      <td>M1C</td>\n    </tr>\n    <tr>\n      <th>2</th>\n      <td>M1E</td>\n      <td>43.763573</td>\n      <td>-79.188711</td>\n      <td>M1E</td>\n    </tr>\n    <tr>\n      <th>3</th>\n      <td>M1G</td>\n      <td>43.770992</td>\n      <td>-79.216917</td>\n      <td>M1G</td>\n    </tr>\n    <tr>\n      <th>4</th>\n      <td>M1H</td>\n      <td>43.773136</td>\n      <td>-79.239476</td>\n      <td>M1H</td>\n    </tr>\n  </tbody>\n</table>\n</div>",
                        "text/plain": "  Postal Code   Latitude  Longitude Postcode\n0         M1B  43.806686 -79.194353      M1B\n1         M1C  43.784535 -79.160497      M1C\n2         M1E  43.763573 -79.188711      M1E\n3         M1G  43.770992 -79.216917      M1G\n4         M1H  43.773136 -79.239476      M1H"
                    },
                    "execution_count": 5,
                    "metadata": {},
                    "output_type": "execute_result"
                }
            ],
            "source": "#PART 2 WORK INCLUDING LATITUTDE AND LONGITUDE DATA \n\ndf_lat_lng = pd.read_csv('https://cocl.us/Geospatial_data')\ndf_lat_lng = df_lat_lng.rename(columns = {\"Postal Code\":\"Postcode\"}\ndf_lat_lng.head()\n# = pd.merge(result, df_lat_lng, on= 'Postcode')"
        },
        {
            "cell_type": "code",
            "execution_count": null,
            "metadata": {},
            "outputs": [],
            "source": ""
        }
    ],
    "metadata": {
        "kernelspec": {
            "display_name": "Python 3.6",
            "language": "python",
            "name": "python3"
        },
        "language_info": {
            "codemirror_mode": {
                "name": "ipython",
                "version": 3
            },
            "file_extension": ".py",
            "mimetype": "text/x-python",
            "name": "python",
            "nbconvert_exporter": "python",
            "pygments_lexer": "ipython3",
            "version": "3.6.8"
        }
    },
    "nbformat": 4,
    "nbformat_minor": 1
}