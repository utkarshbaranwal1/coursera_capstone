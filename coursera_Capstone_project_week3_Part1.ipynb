{
    "cells": [
        {
            "cell_type": "code",
            "execution_count": 3,
            "metadata": {},
            "outputs": [],
            "source": "#import pandas library\nimport pandas as pd"
        },
        {
            "cell_type": "code",
            "execution_count": 4,
            "metadata": {},
            "outputs": [],
            "source": "#reading data through read html method of pandas\ndo = pd.read_html('https://en.wikipedia.org/wiki/List_of_postal_codes_of_Canada:_M')"
        },
        {
            "cell_type": "code",
            "execution_count": 5,
            "metadata": {},
            "outputs": [],
            "source": "#converting to a pandas dataframe\ndf = pd.DataFrame(do[0])"
        },
        {
            "cell_type": "code",
            "execution_count": 6,
            "metadata": {},
            "outputs": [],
            "source": "#preparing and cleaning data \ndf1 = df[df.Borough!='Not assigned']\n#If a cell has a borough but a Not assigned neighborhood, then the neighborhood will be the same as the borough.\nl = list(df1['Neighbourhood'])\nn = list(df1['Borough'])\nfor i in range(len(l)):\n    if l[i]=='Not assigned':\n        l[i] = n[i]\n#replace old neighbourhood column with new one\ndf1 = df1.drop(columns = 'Neighbourhood', axis=1)\ndf1['Neighbourhood'] = l\n#a new dataframe keeping only postcode and borough, to be used for merging later\nd = df1.drop(columns = \"Neighbourhood\", axis=1)"
        },
        {
            "cell_type": "code",
            "execution_count": 7,
            "metadata": {},
            "outputs": [],
            "source": "#merging rows with same postcode values\ndf2 = df1.groupby('Postcode')['Neighbourhood'].apply(','.join).reset_index()"
        },
        {
            "cell_type": "code",
            "execution_count": 8,
            "metadata": {},
            "outputs": [
                {
                    "data": {
                        "text/html": "<div>\n<style scoped>\n    .dataframe tbody tr th:only-of-type {\n        vertical-align: middle;\n    }\n\n    .dataframe tbody tr th {\n        vertical-align: top;\n    }\n\n    .dataframe thead th {\n        text-align: right;\n    }\n</style>\n<table border=\"1\" class=\"dataframe\">\n  <thead>\n    <tr style=\"text-align: right;\">\n      <th></th>\n      <th>Postcode</th>\n      <th>Borough</th>\n      <th>Neighbourhood</th>\n    </tr>\n  </thead>\n  <tbody>\n    <tr>\n      <th>7</th>\n      <td>M1B</td>\n      <td>Scarborough</td>\n      <td>Rouge,Malvern</td>\n    </tr>\n    <tr>\n      <th>20</th>\n      <td>M1C</td>\n      <td>Scarborough</td>\n      <td>Highland Creek,Rouge Hill,Port Union</td>\n    </tr>\n    <tr>\n      <th>32</th>\n      <td>M1E</td>\n      <td>Scarborough</td>\n      <td>Guildwood,Morningside,West Hill</td>\n    </tr>\n    <tr>\n      <th>38</th>\n      <td>M1G</td>\n      <td>Scarborough</td>\n      <td>Woburn</td>\n    </tr>\n    <tr>\n      <th>42</th>\n      <td>M1H</td>\n      <td>Scarborough</td>\n      <td>Cedarbrae</td>\n    </tr>\n    <tr>\n      <th>53</th>\n      <td>M1J</td>\n      <td>Scarborough</td>\n      <td>Scarborough Village</td>\n    </tr>\n    <tr>\n      <th>65</th>\n      <td>M1K</td>\n      <td>Scarborough</td>\n      <td>East Birchmount Park,Ionview,Kennedy Park</td>\n    </tr>\n    <tr>\n      <th>78</th>\n      <td>M1L</td>\n      <td>Scarborough</td>\n      <td>Clairlea,Golden Mile,Oakridge</td>\n    </tr>\n    <tr>\n      <th>92</th>\n      <td>M1M</td>\n      <td>Scarborough</td>\n      <td>Cliffcrest,Cliffside,Scarborough Village West</td>\n    </tr>\n    <tr>\n      <th>107</th>\n      <td>M1N</td>\n      <td>Scarborough</td>\n      <td>Birch Cliff,Cliffside West</td>\n    </tr>\n    <tr>\n      <th>116</th>\n      <td>M1P</td>\n      <td>Scarborough</td>\n      <td>Dorset Park,Scarborough Town Centre,Wexford He...</td>\n    </tr>\n    <tr>\n      <th>126</th>\n      <td>M1R</td>\n      <td>Scarborough</td>\n      <td>Maryvale,Wexford</td>\n    </tr>\n    <tr>\n      <th>140</th>\n      <td>M1S</td>\n      <td>Scarborough</td>\n      <td>Agincourt</td>\n    </tr>\n    <tr>\n      <th>146</th>\n      <td>M1T</td>\n      <td>Scarborough</td>\n      <td>Clarks Corners,Sullivan,Tam O'Shanter</td>\n    </tr>\n    <tr>\n      <th>154</th>\n      <td>M1V</td>\n      <td>Scarborough</td>\n      <td>Agincourt North,L'Amoreaux East,Milliken,Steel...</td>\n    </tr>\n    <tr>\n      <th>181</th>\n      <td>M1W</td>\n      <td>Scarborough</td>\n      <td>L'Amoreaux West</td>\n    </tr>\n    <tr>\n      <th>187</th>\n      <td>M1X</td>\n      <td>Scarborough</td>\n      <td>Upper Rouge</td>\n    </tr>\n    <tr>\n      <th>43</th>\n      <td>M2H</td>\n      <td>North York</td>\n      <td>Hillcrest Village</td>\n    </tr>\n    <tr>\n      <th>54</th>\n      <td>M2J</td>\n      <td>North York</td>\n      <td>Fairview,Henry Farm,Oriole</td>\n    </tr>\n    <tr>\n      <th>68</th>\n      <td>M2K</td>\n      <td>North York</td>\n      <td>Bayview Village</td>\n    </tr>\n    <tr>\n      <th>81</th>\n      <td>M2L</td>\n      <td>North York</td>\n      <td>Silver Hills,York Mills</td>\n    </tr>\n    <tr>\n      <th>95</th>\n      <td>M2M</td>\n      <td>North York</td>\n      <td>Newtonbrook,Willowdale</td>\n    </tr>\n    <tr>\n      <th>109</th>\n      <td>M2N</td>\n      <td>North York</td>\n      <td>Willowdale South</td>\n    </tr>\n    <tr>\n      <th>119</th>\n      <td>M2P</td>\n      <td>North York</td>\n      <td>York Mills West</td>\n    </tr>\n    <tr>\n      <th>128</th>\n      <td>M2R</td>\n      <td>North York</td>\n      <td>Willowdale West</td>\n    </tr>\n    <tr>\n      <th>0</th>\n      <td>M3A</td>\n      <td>North York</td>\n      <td>Parkwoods</td>\n    </tr>\n    <tr>\n      <th>9</th>\n      <td>M3B</td>\n      <td>North York</td>\n      <td>Don Mills North</td>\n    </tr>\n    <tr>\n      <th>23</th>\n      <td>M3C</td>\n      <td>North York</td>\n      <td>Flemingdon Park,Don Mills South</td>\n    </tr>\n    <tr>\n      <th>44</th>\n      <td>M3H</td>\n      <td>North York</td>\n      <td>Bathurst Manor,Downsview North,Wilson Heights</td>\n    </tr>\n    <tr>\n      <th>57</th>\n      <td>M3J</td>\n      <td>North York</td>\n      <td>Northwood Park,York University</td>\n    </tr>\n    <tr>\n      <th>...</th>\n      <td>...</td>\n      <td>...</td>\n      <td>...</td>\n    </tr>\n    <tr>\n      <th>27</th>\n      <td>M6C</td>\n      <td>York</td>\n      <td>Humewood-Cedarvale</td>\n    </tr>\n    <tr>\n      <th>37</th>\n      <td>M6E</td>\n      <td>York</td>\n      <td>Caledonia-Fairbanks</td>\n    </tr>\n    <tr>\n      <th>41</th>\n      <td>M6G</td>\n      <td>Downtown Toronto</td>\n      <td>Christie</td>\n    </tr>\n    <tr>\n      <th>51</th>\n      <td>M6H</td>\n      <td>West Toronto</td>\n      <td>Dovercourt Village,Dufferin</td>\n    </tr>\n    <tr>\n      <th>63</th>\n      <td>M6J</td>\n      <td>West Toronto</td>\n      <td>Little Portugal,Trinity</td>\n    </tr>\n    <tr>\n      <th>75</th>\n      <td>M6K</td>\n      <td>West Toronto</td>\n      <td>Brockton,Exhibition Place,Parkdale Village</td>\n    </tr>\n    <tr>\n      <th>88</th>\n      <td>M6L</td>\n      <td>North York</td>\n      <td>Downsview,North Park,Upwood Park</td>\n    </tr>\n    <tr>\n      <th>101</th>\n      <td>M6M</td>\n      <td>York</td>\n      <td>Del Ray,Keelesdale,Mount Dennis,Silverthorn</td>\n    </tr>\n    <tr>\n      <th>113</th>\n      <td>M6N</td>\n      <td>York</td>\n      <td>The Junction North,Runnymede</td>\n    </tr>\n    <tr>\n      <th>123</th>\n      <td>M6P</td>\n      <td>West Toronto</td>\n      <td>High Park,The Junction South</td>\n    </tr>\n    <tr>\n      <th>133</th>\n      <td>M6R</td>\n      <td>West Toronto</td>\n      <td>Parkdale,Roncesvalles</td>\n    </tr>\n    <tr>\n      <th>144</th>\n      <td>M6S</td>\n      <td>West Toronto</td>\n      <td>Runnymede,Swansea</td>\n    </tr>\n    <tr>\n      <th>5</th>\n      <td>M7A</td>\n      <td>Downtown Toronto</td>\n      <td>Queen's Park</td>\n    </tr>\n    <tr>\n      <th>135</th>\n      <td>M7R</td>\n      <td>Mississauga</td>\n      <td>Canada Post Gateway Processing Centre</td>\n    </tr>\n    <tr>\n      <th>196</th>\n      <td>M7Y</td>\n      <td>East Toronto</td>\n      <td>Business Reply Mail Processing Centre 969 Eastern</td>\n    </tr>\n    <tr>\n      <th>170</th>\n      <td>M8V</td>\n      <td>Etobicoke</td>\n      <td>Humber Bay Shores,Mimico South,New Toronto</td>\n    </tr>\n    <tr>\n      <th>184</th>\n      <td>M8W</td>\n      <td>Etobicoke</td>\n      <td>Alderwood,Long Branch</td>\n    </tr>\n    <tr>\n      <th>192</th>\n      <td>M8X</td>\n      <td>Etobicoke</td>\n      <td>The Kingsway,Montgomery Road,Old Mill North</td>\n    </tr>\n    <tr>\n      <th>197</th>\n      <td>M8Y</td>\n      <td>Etobicoke</td>\n      <td>Humber Bay,King's Mill Park,Kingsway Park Sout...</td>\n    </tr>\n    <tr>\n      <th>205</th>\n      <td>M8Z</td>\n      <td>Etobicoke</td>\n      <td>Kingsway Park South West,Mimico NW,The Queensw...</td>\n    </tr>\n    <tr>\n      <th>6</th>\n      <td>M9A</td>\n      <td>Queen's Park</td>\n      <td>Queen's Park</td>\n    </tr>\n    <tr>\n      <th>15</th>\n      <td>M9B</td>\n      <td>Etobicoke</td>\n      <td>Cloverdale,Islington,Martin Grove,Princess Gar...</td>\n    </tr>\n    <tr>\n      <th>28</th>\n      <td>M9C</td>\n      <td>Etobicoke</td>\n      <td>Bloordale Gardens,Eringate,Markland Wood,Old B...</td>\n    </tr>\n    <tr>\n      <th>91</th>\n      <td>M9L</td>\n      <td>North York</td>\n      <td>Humber Summit</td>\n    </tr>\n    <tr>\n      <th>105</th>\n      <td>M9M</td>\n      <td>North York</td>\n      <td>Emery,Humberlea</td>\n    </tr>\n    <tr>\n      <th>115</th>\n      <td>M9N</td>\n      <td>York</td>\n      <td>Weston</td>\n    </tr>\n    <tr>\n      <th>125</th>\n      <td>M9P</td>\n      <td>Etobicoke</td>\n      <td>Westmount</td>\n    </tr>\n    <tr>\n      <th>136</th>\n      <td>M9R</td>\n      <td>Etobicoke</td>\n      <td>Kingsview Village,Martin Grove Gardens,Richvie...</td>\n    </tr>\n    <tr>\n      <th>173</th>\n      <td>M9V</td>\n      <td>Etobicoke</td>\n      <td>Albion Gardens,Beaumond Heights,Humbergate,Jam...</td>\n    </tr>\n    <tr>\n      <th>186</th>\n      <td>M9W</td>\n      <td>Etobicoke</td>\n      <td>Northwest</td>\n    </tr>\n  </tbody>\n</table>\n<p>103 rows \u00d7 3 columns</p>\n</div>",
                        "text/plain": "    Postcode           Borough  \\\n7        M1B       Scarborough   \n20       M1C       Scarborough   \n32       M1E       Scarborough   \n38       M1G       Scarborough   \n42       M1H       Scarborough   \n53       M1J       Scarborough   \n65       M1K       Scarborough   \n78       M1L       Scarborough   \n92       M1M       Scarborough   \n107      M1N       Scarborough   \n116      M1P       Scarborough   \n126      M1R       Scarborough   \n140      M1S       Scarborough   \n146      M1T       Scarborough   \n154      M1V       Scarborough   \n181      M1W       Scarborough   \n187      M1X       Scarborough   \n43       M2H        North York   \n54       M2J        North York   \n68       M2K        North York   \n81       M2L        North York   \n95       M2M        North York   \n109      M2N        North York   \n119      M2P        North York   \n128      M2R        North York   \n0        M3A        North York   \n9        M3B        North York   \n23       M3C        North York   \n44       M3H        North York   \n57       M3J        North York   \n..       ...               ...   \n27       M6C              York   \n37       M6E              York   \n41       M6G  Downtown Toronto   \n51       M6H      West Toronto   \n63       M6J      West Toronto   \n75       M6K      West Toronto   \n88       M6L        North York   \n101      M6M              York   \n113      M6N              York   \n123      M6P      West Toronto   \n133      M6R      West Toronto   \n144      M6S      West Toronto   \n5        M7A  Downtown Toronto   \n135      M7R       Mississauga   \n196      M7Y      East Toronto   \n170      M8V         Etobicoke   \n184      M8W         Etobicoke   \n192      M8X         Etobicoke   \n197      M8Y         Etobicoke   \n205      M8Z         Etobicoke   \n6        M9A      Queen's Park   \n15       M9B         Etobicoke   \n28       M9C         Etobicoke   \n91       M9L        North York   \n105      M9M        North York   \n115      M9N              York   \n125      M9P         Etobicoke   \n136      M9R         Etobicoke   \n173      M9V         Etobicoke   \n186      M9W         Etobicoke   \n\n                                         Neighbourhood  \n7                                        Rouge,Malvern  \n20                Highland Creek,Rouge Hill,Port Union  \n32                     Guildwood,Morningside,West Hill  \n38                                              Woburn  \n42                                           Cedarbrae  \n53                                 Scarborough Village  \n65           East Birchmount Park,Ionview,Kennedy Park  \n78                       Clairlea,Golden Mile,Oakridge  \n92       Cliffcrest,Cliffside,Scarborough Village West  \n107                         Birch Cliff,Cliffside West  \n116  Dorset Park,Scarborough Town Centre,Wexford He...  \n126                                   Maryvale,Wexford  \n140                                          Agincourt  \n146              Clarks Corners,Sullivan,Tam O'Shanter  \n154  Agincourt North,L'Amoreaux East,Milliken,Steel...  \n181                                    L'Amoreaux West  \n187                                        Upper Rouge  \n43                                   Hillcrest Village  \n54                          Fairview,Henry Farm,Oriole  \n68                                     Bayview Village  \n81                             Silver Hills,York Mills  \n95                              Newtonbrook,Willowdale  \n109                                   Willowdale South  \n119                                    York Mills West  \n128                                    Willowdale West  \n0                                            Parkwoods  \n9                                      Don Mills North  \n23                     Flemingdon Park,Don Mills South  \n44       Bathurst Manor,Downsview North,Wilson Heights  \n57                      Northwood Park,York University  \n..                                                 ...  \n27                                  Humewood-Cedarvale  \n37                                 Caledonia-Fairbanks  \n41                                            Christie  \n51                         Dovercourt Village,Dufferin  \n63                             Little Portugal,Trinity  \n75          Brockton,Exhibition Place,Parkdale Village  \n88                    Downsview,North Park,Upwood Park  \n101        Del Ray,Keelesdale,Mount Dennis,Silverthorn  \n113                       The Junction North,Runnymede  \n123                       High Park,The Junction South  \n133                              Parkdale,Roncesvalles  \n144                                  Runnymede,Swansea  \n5                                         Queen's Park  \n135              Canada Post Gateway Processing Centre  \n196  Business Reply Mail Processing Centre 969 Eastern  \n170         Humber Bay Shores,Mimico South,New Toronto  \n184                              Alderwood,Long Branch  \n192        The Kingsway,Montgomery Road,Old Mill North  \n197  Humber Bay,King's Mill Park,Kingsway Park Sout...  \n205  Kingsway Park South West,Mimico NW,The Queensw...  \n6                                         Queen's Park  \n15   Cloverdale,Islington,Martin Grove,Princess Gar...  \n28   Bloordale Gardens,Eringate,Markland Wood,Old B...  \n91                                       Humber Summit  \n105                                    Emery,Humberlea  \n115                                             Weston  \n125                                          Westmount  \n136  Kingsview Village,Martin Grove Gardens,Richvie...  \n173  Albion Gardens,Beaumond Heights,Humbergate,Jam...  \n186                                          Northwest  \n\n[103 rows x 3 columns]"
                    },
                    "execution_count": 8,
                    "metadata": {},
                    "output_type": "execute_result"
                }
            ],
            "source": "result = pd.merge(d, df2, on= 'Postcode')\nresult.drop_duplicates(keep='first', inplace=True)\nresult.sort_values(by='Postcode', inplace=True)\nresult"
        },
        {
            "cell_type": "code",
            "execution_count": 10,
            "metadata": {},
            "outputs": [
                {
                    "data": {
                        "text/plain": "(103, 3)"
                    },
                    "execution_count": 10,
                    "metadata": {},
                    "output_type": "execute_result"
                }
            ],
            "source": "result.shape"
        },
        {
            "cell_type": "code",
            "execution_count": null,
            "metadata": {},
            "outputs": [],
            "source": ""
        }
    ],
    "metadata": {
        "kernelspec": {
            "display_name": "Python 3.6",
            "language": "python",
            "name": "python3"
        },
        "language_info": {
            "codemirror_mode": {
                "name": "ipython",
                "version": 3
            },
            "file_extension": ".py",
            "mimetype": "text/x-python",
            "name": "python",
            "nbconvert_exporter": "python",
            "pygments_lexer": "ipython3",
            "version": "3.6.8"
        }
    },
    "nbformat": 4,
    "nbformat_minor": 1
}